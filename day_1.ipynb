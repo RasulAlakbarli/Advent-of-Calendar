{
 "cells": [
  {
   "cell_type": "code",
   "execution_count": 1,
   "metadata": {},
   "outputs": [],
   "source": [
    "import os\n",
    "import sys\n",
    "import numpy as np"
   ]
  },
  {
   "cell_type": "code",
   "execution_count": 5,
   "metadata": {},
   "outputs": [
    {
     "name": "stdout",
     "output_type": "stream",
     "text": [
      "Answer is: 2196996\n"
     ]
    }
   ],
   "source": [
    "# Part 1\n",
    "\n",
    "left_nums = []\n",
    "right_nums = []\n",
    "\n",
    "total_sum = 0\n",
    "\n",
    "with open('input.txt', 'r') as f:\n",
    "    for line in f.readlines():\n",
    "        left_nums.append(int(line.strip().split('   ')[0]))\n",
    "        right_nums.append(int(line.strip().split('   ')[1]))\n",
    "\n",
    "left_nums.sort()\n",
    "right_nums.sort()\n",
    "\n",
    "for l,r in zip(left_nums, right_nums):\n",
    "    total_sum += np.abs(l - r)\n",
    "\n",
    "print(\"Answer is:\",total_sum)"
   ]
  },
  {
   "cell_type": "code",
   "execution_count": 6,
   "metadata": {},
   "outputs": [
    {
     "name": "stdout",
     "output_type": "stream",
     "text": [
      "Answer is: 23655822\n"
     ]
    }
   ],
   "source": [
    "# Part 2\n",
    "\n",
    "left_nums = []\n",
    "right_nums = []\n",
    "\n",
    "total_sum = 0\n",
    "\n",
    "with open('input.txt', 'r') as f:\n",
    "    for line in f.readlines():\n",
    "        left_nums.append(int(line.strip().split('   ')[0]))\n",
    "        right_nums.append(int(line.strip().split('   ')[1]))\n",
    "\n",
    "left_nums.sort()\n",
    "right_nums.sort()\n",
    "\n",
    "for l in left_nums:\n",
    "    freq = right_nums.count(l)\n",
    "    total_sum += l*freq\n",
    "\n",
    "print(\"Answer is:\",total_sum)"
   ]
  },
  {
   "cell_type": "code",
   "execution_count": null,
   "metadata": {},
   "outputs": [],
   "source": []
  }
 ],
 "metadata": {
  "kernelspec": {
   "display_name": ".venv",
   "language": "python",
   "name": "python3"
  },
  "language_info": {
   "codemirror_mode": {
    "name": "ipython",
    "version": 3
   },
   "file_extension": ".py",
   "mimetype": "text/x-python",
   "name": "python",
   "nbconvert_exporter": "python",
   "pygments_lexer": "ipython3",
   "version": "3.10.16"
  }
 },
 "nbformat": 4,
 "nbformat_minor": 2
}
