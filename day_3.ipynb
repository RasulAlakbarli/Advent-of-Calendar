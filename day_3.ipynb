{
 "cells": [
  {
   "cell_type": "code",
   "execution_count": 85,
   "metadata": {},
   "outputs": [],
   "source": [
    "with open(\"input_day3.txt\", \"r\") as f:\n",
    "    data = f.readlines()"
   ]
  },
  {
   "cell_type": "code",
   "execution_count": 86,
   "metadata": {},
   "outputs": [
    {
     "name": "stdout",
     "output_type": "stream",
     "text": [
      "Total is: 160672468\n"
     ]
    }
   ],
   "source": [
    "# Part 1\n",
    "\n",
    "total = 0\n",
    "for s in data:\n",
    "    for i in  range(len(s)):\n",
    "        if s[i:i+4] == \"mul(\":\n",
    "            args = s[i+4:].split(\")\")[0].split(\",\")\n",
    "            if len(args) == 2:\n",
    "                try:\n",
    "                    total += int(args[0]) * int(args[1])\n",
    "                except:\n",
    "                    pass\n",
    "\n",
    "print(\"Total is:\", total)"
   ]
  },
  {
   "cell_type": "code",
   "execution_count": 87,
   "metadata": {},
   "outputs": [
    {
     "name": "stdout",
     "output_type": "stream",
     "text": [
      "Total is: 84893551\n"
     ]
    }
   ],
   "source": [
    "# Part 2\n",
    "do = True\n",
    "total = 0\n",
    "\n",
    "for s in data:\n",
    "    for i in range(len(s)):\n",
    "        if s[i:i+7] == \"don't()\":\n",
    "            do = False\n",
    "        if s[i:i+4] == \"do()\":\n",
    "            do = True\n",
    "\n",
    "        if do:\n",
    "            if s[i:i+4] == \"mul(\":\n",
    "                args = s[i+4:].split(\")\")[0].split(\",\")\n",
    "                if len(args) == 2:\n",
    "                    try:\n",
    "                        total += int(args[0]) * int(args[1])\n",
    "                    except:\n",
    "                        pass\n",
    "\n",
    "print(\"Total is:\", total)"
   ]
  },
  {
   "cell_type": "code",
   "execution_count": null,
   "metadata": {},
   "outputs": [],
   "source": []
  }
 ],
 "metadata": {
  "kernelspec": {
   "display_name": ".venv",
   "language": "python",
   "name": "python3"
  },
  "language_info": {
   "codemirror_mode": {
    "name": "ipython",
    "version": 3
   },
   "file_extension": ".py",
   "mimetype": "text/x-python",
   "name": "python",
   "nbconvert_exporter": "python",
   "pygments_lexer": "ipython3",
   "version": "3.10.16"
  }
 },
 "nbformat": 4,
 "nbformat_minor": 2
}
