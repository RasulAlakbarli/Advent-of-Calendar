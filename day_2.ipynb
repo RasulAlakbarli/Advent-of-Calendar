{
 "cells": [
  {
   "cell_type": "code",
   "execution_count": 6,
   "metadata": {},
   "outputs": [
    {
     "name": "stdout",
     "output_type": "stream",
     "text": [
      "572\n"
     ]
    }
   ],
   "source": [
    "# Part 1\n",
    "safe_count = 0\n",
    "with open(\"input_day2.txt\", 'r') as f:\n",
    "    for line in f.readlines():\n",
    "        safe = True\n",
    "        line = line.strip().split()\n",
    "        l = [int(i) for i in line]\n",
    "\n",
    "        is_increasing = True\n",
    "        safe = True\n",
    "        differences = [l[i+1] - l[i] for i in range(len(l)-1)]\n",
    "\n",
    "        if differences[0] < 0:\n",
    "            is_increasing = False\n",
    "\n",
    "        if is_increasing:\n",
    "            for difference in differences:\n",
    "                if 1 <= difference <= 3:\n",
    "                    safe = True\n",
    "                else:\n",
    "                    safe = False\n",
    "                    break\n",
    "\n",
    "        else:\n",
    "            for difference in differences:\n",
    "                if -3 <= difference <= -1:\n",
    "                    safe = True\n",
    "                else:\n",
    "                    safe = False\n",
    "                    break\n",
    "        if safe:\n",
    "            safe_count+=1\n",
    "\n",
    "print(safe_count)"
   ]
  },
  {
   "cell_type": "code",
   "execution_count": 14,
   "metadata": {},
   "outputs": [
    {
     "name": "stdout",
     "output_type": "stream",
     "text": [
      "Total Safe Reports: 612\n"
     ]
    }
   ],
   "source": [
    "# Part 2\n",
    "safe_count = 0\n",
    "\n",
    "with open(\"input_day2.txt\", 'r') as f:\n",
    "    for line in f.readlines():\n",
    "        line = line.strip().split()\n",
    "        l = [int(i) for i in line]\n",
    "\n",
    "        # Skip reports with less than 2 numbers\n",
    "        if len(l) < 2:\n",
    "            continue\n",
    "\n",
    "        # Compute differences between consecutive levels\n",
    "        differences = [l[i + 1] - l[i] for i in range(len(l) - 1)]\n",
    "\n",
    "        # Determine if the sequence is increasing or decreasing\n",
    "        is_increasing = all(d > 0 for d in differences)\n",
    "        is_decreasing = all(d < 0 for d in differences)\n",
    "\n",
    "        # If the sequence is already safe, count it\n",
    "        if (is_increasing or is_decreasing) and all(1 <= abs(d) <= 3 for d in differences):\n",
    "            safe_count += 1\n",
    "            continue\n",
    "\n",
    "        # Try removing one element at a time and check if the sequence becomes safe\n",
    "        found_fix = False\n",
    "        for i in range(len(l)):\n",
    "            modified_l = l[:i] + l[i+1:]  # Remove one element\n",
    "            modified_differences = [modified_l[j + 1] - modified_l[j] for j in range(len(modified_l) - 1)]\n",
    "\n",
    "            # Check if modified sequence is either strictly increasing or decreasing and follows the difference rule\n",
    "            if modified_differences:\n",
    "                is_inc = all(d > 0 for d in modified_differences)\n",
    "                is_dec = all(d < 0 for d in modified_differences)\n",
    "                if (is_inc or is_dec) and all(1 <= abs(d) <= 3 for d in modified_differences):\n",
    "                    found_fix = True\n",
    "                    break  # No need to check further\n",
    "\n",
    "        if found_fix:\n",
    "            safe_count += 1\n",
    "\n",
    "print(\"Total Safe Reports:\", safe_count)\n"
   ]
  }
 ],
 "metadata": {
  "kernelspec": {
   "display_name": ".venv",
   "language": "python",
   "name": "python3"
  },
  "language_info": {
   "codemirror_mode": {
    "name": "ipython",
    "version": 3
   },
   "file_extension": ".py",
   "mimetype": "text/x-python",
   "name": "python",
   "nbconvert_exporter": "python",
   "pygments_lexer": "ipython3",
   "version": "3.10.16"
  }
 },
 "nbformat": 4,
 "nbformat_minor": 2
}
